{
 "cells": [
  {
   "cell_type": "code",
   "execution_count": 2,
   "metadata": {},
   "outputs": [
    {
     "name": "stdout",
     "output_type": "stream",
     "text": [
      "Note: you may need to restart the kernel to use updated packages.Requirement already satisfied: tensorflow in c:\\users\\vamshi r a\\onedrive\\desktop\\meme-genai\\venv\\lib\\site-packages (2.18.0)\n",
      "Requirement already satisfied: keras in c:\\users\\vamshi r a\\onedrive\\desktop\\meme-genai\\venv\\lib\\site-packages (3.8.0)\n",
      "Requirement already satisfied: pandas in c:\\users\\vamshi r a\\onedrive\\desktop\\meme-genai\\venv\\lib\\site-packages (2.2.3)\n",
      "Requirement already satisfied: numpy in c:\\users\\vamshi r a\\onedrive\\desktop\\meme-genai\\venv\\lib\\site-packages (2.0.2)\n",
      "Requirement already satisfied: pillow in c:\\users\\vamshi r a\\onedrive\\desktop\\meme-genai\\venv\\lib\\site-packages (11.1.0)\n",
      "Requirement already satisfied: streamlit in c:\\users\\vamshi r a\\onedrive\\desktop\\meme-genai\\venv\\lib\\site-packages (1.42.2)\n",
      "Requirement already satisfied: tensorflow-intel==2.18.0 in c:\\users\\vamshi r a\\onedrive\\desktop\\meme-genai\\venv\\lib\\site-packages (from tensorflow) (2.18.0)\n",
      "Requirement already satisfied: absl-py>=1.0.0 in c:\\users\\vamshi r a\\onedrive\\desktop\\meme-genai\\venv\\lib\\site-packages (from tensorflow-intel==2.18.0->tensorflow) (2.1.0)\n",
      "Requirement already satisfied: astunparse>=1.6.0 in c:\\users\\vamshi r a\\onedrive\\desktop\\meme-genai\\venv\\lib\\site-packages (from tensorflow-intel==2.18.0->tensorflow) (1.6.3)\n",
      "Requirement already satisfied: flatbuffers>=24.3.25 in c:\\users\\vamshi r a\\onedrive\\desktop\\meme-genai\\venv\\lib\\site-packages (from tensorflow-intel==2.18.0->tensorflow) (25.2.10)\n",
      "Requirement already satisfied: gast!=0.5.0,!=0.5.1,!=0.5.2,>=0.2.1 in c:\\users\\vamshi r a\\onedrive\\desktop\\meme-genai\\venv\\lib\\site-packages (from tensorflow-intel==2.18.0->tensorflow) (0.6.0)\n",
      "Requirement already satisfied: google-pasta>=0.1.1 in c:\\users\\vamshi r a\\onedrive\\desktop\\meme-genai\\venv\\lib\\site-packages (from tensorflow-intel==2.18.0->tensorflow) (0.2.0)\n",
      "Requirement already satisfied: libclang>=13.0.0 in c:\\users\\vamshi r a\\onedrive\\desktop\\meme-genai\\venv\\lib\\site-packages (from tensorflow-intel==2.18.0->tensorflow) (18.1.1)\n",
      "Requirement already satisfied: opt-einsum>=2.3.2 in c:\\users\\vamshi r a\\onedrive\\desktop\\meme-genai\\venv\\lib\\site-packages (from tensorflow-intel==2.18.0->tensorflow) (3.4.0)\n",
      "Requirement already satisfied: packaging in c:\\users\\vamshi r a\\onedrive\\desktop\\meme-genai\\venv\\lib\\site-packages (from tensorflow-intel==2.18.0->tensorflow) (24.2)\n",
      "Requirement already satisfied: protobuf!=4.21.0,!=4.21.1,!=4.21.2,!=4.21.3,!=4.21.4,!=4.21.5,<6.0.0dev,>=3.20.3 in c:\\users\\vamshi r a\\onedrive\\desktop\\meme-genai\\venv\\lib\\site-packages (from tensorflow-intel==2.18.0->tensorflow) (5.29.3)\n",
      "Requirement already satisfied: requests<3,>=2.21.0 in c:\\users\\vamshi r a\\onedrive\\desktop\\meme-genai\\venv\\lib\\site-packages (from tensorflow-intel==2.18.0->tensorflow) (2.32.3)\n",
      "Requirement already satisfied: setuptools in c:\\users\\vamshi r a\\onedrive\\desktop\\meme-genai\\venv\\lib\\site-packages (from tensorflow-intel==2.18.0->tensorflow) (75.8.0)\n",
      "Requirement already satisfied: six>=1.12.0 in c:\\users\\vamshi r a\\onedrive\\desktop\\meme-genai\\venv\\lib\\site-packages (from tensorflow-intel==2.18.0->tensorflow) (1.17.0)\n",
      "Requirement already satisfied: termcolor>=1.1.0 in c:\\users\\vamshi r a\\onedrive\\desktop\\meme-genai\\venv\\lib\\site-packages (from tensorflow-intel==2.18.0->tensorflow) (2.5.0)\n",
      "Requirement already satisfied: typing-extensions>=3.6.6 in c:\\users\\vamshi r a\\onedrive\\desktop\\meme-genai\\venv\\lib\\site-packages (from tensorflow-intel==2.18.0->tensorflow) (4.12.2)\n",
      "Requirement already satisfied: wrapt>=1.11.0 in c:\\users\\vamshi r a\\onedrive\\desktop\\meme-genai\\venv\\lib\\site-packages (from tensorflow-intel==2.18.0->tensorflow) (1.17.2)\n",
      "Requirement already satisfied: grpcio<2.0,>=1.24.3 in c:\\users\\vamshi r a\\onedrive\\desktop\\meme-genai\\venv\\lib\\site-packages (from tensorflow-intel==2.18.0->tensorflow) (1.70.0)\n",
      "Requirement already satisfied: tensorboard<2.19,>=2.18 in c:\\users\\vamshi r a\\onedrive\\desktop\\meme-genai\\venv\\lib\\site-packages (from tensorflow-intel==2.18.0->tensorflow) (2.18.0)\n",
      "Requirement already satisfied: h5py>=3.11.0 in c:\\users\\vamshi r a\\onedrive\\desktop\\meme-genai\\venv\\lib\\site-packages (from tensorflow-intel==2.18.0->tensorflow) (3.13.0)\n",
      "Requirement already satisfied: ml-dtypes<0.5.0,>=0.4.0 in c:\\users\\vamshi r a\\onedrive\\desktop\\meme-genai\\venv\\lib\\site-packages (from tensorflow-intel==2.18.0->tensorflow) (0.4.1)\n",
      "Requirement already satisfied: rich in c:\\users\\vamshi r a\\onedrive\\desktop\\meme-genai\\venv\\lib\\site-packages (from keras) (13.9.4)\n",
      "Requirement already satisfied: namex in c:\\users\\vamshi r a\\onedrive\\desktop\\meme-genai\\venv\\lib\\site-packages (from keras) (0.0.8)\n",
      "Requirement already satisfied: optree in c:\\users\\vamshi r a\\onedrive\\desktop\\meme-genai\\venv\\lib\\site-packages (from keras) (0.14.0)\n",
      "Requirement already satisfied: python-dateutil>=2.8.2 in c:\\users\\vamshi r a\\onedrive\\desktop\\meme-genai\\venv\\lib\\site-packages (from pandas) (2.9.0.post0)\n",
      "Requirement already satisfied: pytz>=2020.1 in c:\\users\\vamshi r a\\onedrive\\desktop\\meme-genai\\venv\\lib\\site-packages (from pandas) (2025.1)\n",
      "Requirement already satisfied: tzdata>=2022.7 in c:\\users\\vamshi r a\\onedrive\\desktop\\meme-genai\\venv\\lib\\site-packages (from pandas) (2025.1)\n",
      "Requirement already satisfied: altair<6,>=4.0 in c:\\users\\vamshi r a\\onedrive\\desktop\\meme-genai\\venv\\lib\\site-packages (from streamlit) (5.5.0)\n",
      "Requirement already satisfied: blinker<2,>=1.0.0 in c:\\users\\vamshi r a\\onedrive\\desktop\\meme-genai\\venv\\lib\\site-packages (from streamlit) (1.9.0)\n",
      "Requirement already satisfied: cachetools<6,>=4.0 in c:\\users\\vamshi r a\\onedrive\\desktop\\meme-genai\\venv\\lib\\site-packages (from streamlit) (5.5.2)\n",
      "Requirement already satisfied: click<9,>=7.0 in c:\\users\\vamshi r a\\onedrive\\desktop\\meme-genai\\venv\\lib\\site-packages (from streamlit) (8.1.8)\n",
      "Requirement already satisfied: pyarrow>=7.0 in c:\\users\\vamshi r a\\onedrive\\desktop\\meme-genai\\venv\\lib\\site-packages (from streamlit) (19.0.1)\n",
      "Requirement already satisfied: tenacity<10,>=8.1.0 in c:\\users\\vamshi r a\\onedrive\\desktop\\meme-genai\\venv\\lib\\site-packages (from streamlit) (9.0.0)\n",
      "Requirement already satisfied: toml<2,>=0.10.1 in c:\\users\\vamshi r a\\onedrive\\desktop\\meme-genai\\venv\\lib\\site-packages (from streamlit) (0.10.2)\n",
      "Requirement already satisfied: watchdog<7,>=2.1.5 in c:\\users\\vamshi r a\\onedrive\\desktop\\meme-genai\\venv\\lib\\site-packages (from streamlit) (6.0.0)\n",
      "Requirement already satisfied: gitpython!=3.1.19,<4,>=3.0.7 in c:\\users\\vamshi r a\\onedrive\\desktop\\meme-genai\\venv\\lib\\site-packages (from streamlit) (3.1.44)\n",
      "Requirement already satisfied: pydeck<1,>=0.8.0b4 in c:\\users\\vamshi r a\\onedrive\\desktop\\meme-genai\\venv\\lib\\site-packages (from streamlit) (0.9.1)\n",
      "Requirement already satisfied: tornado<7,>=6.0.3 in c:\\users\\vamshi r a\\onedrive\\desktop\\meme-genai\\venv\\lib\\site-packages (from streamlit) (6.4.2)\n",
      "Requirement already satisfied: jinja2 in c:\\users\\vamshi r a\\onedrive\\desktop\\meme-genai\\venv\\lib\\site-packages (from altair<6,>=4.0->streamlit) (3.1.5)\n",
      "Requirement already satisfied: jsonschema>=3.0 in c:\\users\\vamshi r a\\onedrive\\desktop\\meme-genai\\venv\\lib\\site-packages (from altair<6,>=4.0->streamlit) (4.23.0)\n",
      "Requirement already satisfied: narwhals>=1.14.2 in c:\\users\\vamshi r a\\onedrive\\desktop\\meme-genai\\venv\\lib\\site-packages (from altair<6,>=4.0->streamlit) (1.27.1)\n",
      "Requirement already satisfied: colorama in c:\\users\\vamshi r a\\onedrive\\desktop\\meme-genai\\venv\\lib\\site-packages (from click<9,>=7.0->streamlit) (0.4.6)\n",
      "Requirement already satisfied: gitdb<5,>=4.0.1 in c:\\users\\vamshi r a\\onedrive\\desktop\\meme-genai\\venv\\lib\\site-packages (from gitpython!=3.1.19,<4,>=3.0.7->streamlit) (4.0.12)\n",
      "Requirement already satisfied: charset-normalizer<4,>=2 in c:\\users\\vamshi r a\\onedrive\\desktop\\meme-genai\\venv\\lib\\site-packages (from requests<3,>=2.21.0->tensorflow-intel==2.18.0->tensorflow) (3.4.1)\n",
      "Requirement already satisfied: idna<4,>=2.5 in c:\\users\\vamshi r a\\onedrive\\desktop\\meme-genai\\venv\\lib\\site-packages (from requests<3,>=2.21.0->tensorflow-intel==2.18.0->tensorflow) (3.10)\n",
      "Requirement already satisfied: urllib3<3,>=1.21.1 in c:\\users\\vamshi r a\\onedrive\\desktop\\meme-genai\\venv\\lib\\site-packages (from requests<3,>=2.21.0->tensorflow-intel==2.18.0->tensorflow) (2.3.0)\n",
      "Requirement already satisfied: certifi>=2017.4.17 in c:\\users\\vamshi r a\\onedrive\\desktop\\meme-genai\\venv\\lib\\site-packages (from requests<3,>=2.21.0->tensorflow-intel==2.18.0->tensorflow) (2025.1.31)\n",
      "Requirement already satisfied: markdown-it-py>=2.2.0 in c:\\users\\vamshi r a\\onedrive\\desktop\\meme-genai\\venv\\lib\\site-packages (from rich->keras) (3.0.0)\n",
      "Requirement already satisfied: pygments<3.0.0,>=2.13.0 in c:\\users\\vamshi r a\\onedrive\\desktop\\meme-genai\\venv\\lib\\site-packages (from rich->keras) (2.19.1)\n",
      "Requirement already satisfied: wheel<1.0,>=0.23.0 in c:\\users\\vamshi r a\\onedrive\\desktop\\meme-genai\\venv\\lib\\site-packages (from astunparse>=1.6.0->tensorflow-intel==2.18.0->tensorflow) (0.45.1)\n",
      "Requirement already satisfied: smmap<6,>=3.0.1 in c:\\users\\vamshi r a\\onedrive\\desktop\\meme-genai\\venv\\lib\\site-packages (from gitdb<5,>=4.0.1->gitpython!=3.1.19,<4,>=3.0.7->streamlit) (5.0.2)\n",
      "Requirement already satisfied: MarkupSafe>=2.0 in c:\\users\\vamshi r a\\onedrive\\desktop\\meme-genai\\venv\\lib\\site-packages (from jinja2->altair<6,>=4.0->streamlit) (3.0.2)\n",
      "Requirement already satisfied: attrs>=22.2.0 in c:\\users\\vamshi r a\\onedrive\\desktop\\meme-genai\\venv\\lib\\site-packages (from jsonschema>=3.0->altair<6,>=4.0->streamlit) (25.1.0)\n",
      "Requirement already satisfied: jsonschema-specifications>=2023.03.6 in c:\\users\\vamshi r a\\onedrive\\desktop\\meme-genai\\venv\\lib\\site-packages (from jsonschema>=3.0->altair<6,>=4.0->streamlit) (2024.10.1)\n",
      "Requirement already satisfied: referencing>=0.28.4 in c:\\users\\vamshi r a\\onedrive\\desktop\\meme-genai\\venv\\lib\\site-packages (from jsonschema>=3.0->altair<6,>=4.0->streamlit) (0.36.2)\n",
      "Requirement already satisfied: rpds-py>=0.7.1 in c:\\users\\vamshi r a\\onedrive\\desktop\\meme-genai\\venv\\lib\\site-packages (from jsonschema>=3.0->altair<6,>=4.0->streamlit) (0.23.1)\n",
      "Requirement already satisfied: mdurl~=0.1 in c:\\users\\vamshi r a\\onedrive\\desktop\\meme-genai\\venv\\lib\\site-packages (from markdown-it-py>=2.2.0->rich->keras) (0.1.2)\n",
      "Requirement already satisfied: markdown>=2.6.8 in c:\\users\\vamshi r a\\onedrive\\desktop\\meme-genai\\venv\\lib\\site-packages (from tensorboard<2.19,>=2.18->tensorflow-intel==2.18.0->tensorflow) (3.7)\n",
      "Requirement already satisfied: tensorboard-data-server<0.8.0,>=0.7.0 in c:\\users\\vamshi r a\\onedrive\\desktop\\meme-genai\\venv\\lib\\site-packages (from tensorboard<2.19,>=2.18->tensorflow-intel==2.18.0->tensorflow) (0.7.2)\n",
      "Requirement already satisfied: werkzeug>=1.0.1 in c:\\users\\vamshi r a\\onedrive\\desktop\\meme-genai\\venv\\lib\\site-packages (from tensorboard<2.19,>=2.18->tensorflow-intel==2.18.0->tensorflow) (3.1.3)\n",
      "\n"
     ]
    },
    {
     "name": "stderr",
     "output_type": "stream",
     "text": [
      "\n",
      "[notice] A new release of pip is available: 24.0 -> 25.0.1\n",
      "[notice] To update, run: python.exe -m pip install --upgrade pip\n"
     ]
    }
   ],
   "source": [
    "pip install tensorflow keras pandas numpy pillow streamlit"
   ]
  },
  {
   "cell_type": "code",
   "execution_count": 3,
   "metadata": {},
   "outputs": [],
   "source": [
    "import os\n",
    "import pandas as pd\n",
    "import numpy as np\n",
    "from PIL import Image\n",
    "import tensorflow as tf\n",
    "from tensorflow.keras.preprocessing.text import Tokenizer\n",
    "from tensorflow.keras.preprocessing.sequence import pad_sequences\n",
    "\n",
    "# Define dataset paths\n",
    "template_path = r\"C:\\Users\\Vamshi R A\\Downloads\\memes900k\\memes900k\\templates.txt\"\n",
    "captions_path = r\"C:\\Users\\Vamshi R A\\Downloads\\memes900k\\memes900k\\captions.txt\"\n",
    "images_folder = r\"C:\\Users\\Vamshi R A\\Downloads\\memes900k\\memes900k\\images\"\n",
    "\n",
    "# Load captions\n",
    "captions = pd.read_csv(captions_path, delimiter=\"\\t\", header=None, names=[\"image\", \"caption\"])\n",
    "\n",
    "# Load templates\n",
    "templates = pd.read_csv(template_path, delimiter=\"\\t\", header=None, names=[\"template\"])\n",
    "\n",
    "# Tokenize captions\n",
    "tokenizer = Tokenizer(num_words=5000, oov_token=\"<OOV>\")\n",
    "tokenizer.fit_on_texts(captions[\"caption\"])\n",
    "\n",
    "# Convert captions to sequences\n",
    "sequences = tokenizer.texts_to_sequences(captions[\"caption\"])\n",
    "padded_sequences = pad_sequences(sequences, maxlen=20, padding=\"post\")\n"
   ]
  },
  {
   "cell_type": "code",
   "execution_count": 4,
   "metadata": {},
   "outputs": [
    {
     "name": "stderr",
     "output_type": "stream",
     "text": [
      "c:\\Users\\Vamshi R A\\OneDrive\\Desktop\\MEME-GENAI\\venv\\Lib\\site-packages\\keras\\src\\layers\\core\\embedding.py:90: UserWarning: Argument `input_length` is deprecated. Just remove it.\n",
      "  warnings.warn(\n"
     ]
    },
    {
     "name": "stdout",
     "output_type": "stream",
     "text": [
      "Epoch 1/10\n",
      "\u001b[1m27929/27929\u001b[0m \u001b[32m━━━━━━━━━━━━━━━━━━━━\u001b[0m\u001b[37m\u001b[0m \u001b[1m1752s\u001b[0m 62ms/step - accuracy: 0.3838 - loss: 4.2155\n",
      "Epoch 2/10\n",
      "\u001b[1m27929/27929\u001b[0m \u001b[32m━━━━━━━━━━━━━━━━━━━━\u001b[0m\u001b[37m\u001b[0m \u001b[1m1756s\u001b[0m 63ms/step - accuracy: 0.7833 - loss: 1.2278\n",
      "Epoch 3/10\n",
      "\u001b[1m27929/27929\u001b[0m \u001b[32m━━━━━━━━━━━━━━━━━━━━\u001b[0m\u001b[37m\u001b[0m \u001b[1m1778s\u001b[0m 63ms/step - accuracy: 0.8689 - loss: 0.6762\n",
      "Epoch 4/10\n",
      "\u001b[1m27929/27929\u001b[0m \u001b[32m━━━━━━━━━━━━━━━━━━━━\u001b[0m\u001b[37m\u001b[0m \u001b[1m1791s\u001b[0m 64ms/step - accuracy: 0.9150 - loss: 0.4024\n",
      "Epoch 5/10\n",
      "\u001b[1m27929/27929\u001b[0m \u001b[32m━━━━━━━━━━━━━━━━━━━━\u001b[0m\u001b[37m\u001b[0m \u001b[1m1817s\u001b[0m 65ms/step - accuracy: 0.9536 - loss: 0.1887\n",
      "Epoch 6/10\n",
      "\u001b[1m27929/27929\u001b[0m \u001b[32m━━━━━━━━━━━━━━━━━━━━\u001b[0m\u001b[37m\u001b[0m \u001b[1m1825s\u001b[0m 65ms/step - accuracy: 0.9748 - loss: 0.0999\n",
      "Epoch 7/10\n",
      "\u001b[1m27929/27929\u001b[0m \u001b[32m━━━━━━━━━━━━━━━━━━━━\u001b[0m\u001b[37m\u001b[0m \u001b[1m1856s\u001b[0m 66ms/step - accuracy: 0.9857 - loss: 0.0589\n",
      "Epoch 8/10\n",
      "\u001b[1m27929/27929\u001b[0m \u001b[32m━━━━━━━━━━━━━━━━━━━━\u001b[0m\u001b[37m\u001b[0m \u001b[1m1917s\u001b[0m 68ms/step - accuracy: 0.9907 - loss: 0.0379\n",
      "Epoch 9/10\n",
      "\u001b[1m27929/27929\u001b[0m \u001b[32m━━━━━━━━━━━━━━━━━━━━\u001b[0m\u001b[37m\u001b[0m \u001b[1m1919s\u001b[0m 69ms/step - accuracy: 0.9928 - loss: 0.0315\n",
      "Epoch 10/10\n",
      "\u001b[1m27929/27929\u001b[0m \u001b[32m━━━━━━━━━━━━━━━━━━━━\u001b[0m\u001b[37m\u001b[0m \u001b[1m1922s\u001b[0m 69ms/step - accuracy: 0.9943 - loss: 0.0248\n"
     ]
    },
    {
     "name": "stderr",
     "output_type": "stream",
     "text": [
      "WARNING:absl:You are saving your model as an HDF5 file via `model.save()` or `keras.saving.save_model(model)`. This file format is considered legacy. We recommend using instead the native Keras format, e.g. `model.save('my_model.keras')` or `keras.saving.save_model(model, 'my_model.keras')`. \n"
     ]
    }
   ],
   "source": [
    "from tensorflow.keras.models import Sequential\n",
    "from tensorflow.keras.layers import Embedding, LSTM, Dense\n",
    "\n",
    "# Define model\n",
    "model = Sequential([\n",
    "    Embedding(input_dim=5000, output_dim=64, input_length=20),\n",
    "    LSTM(128, return_sequences=True),\n",
    "    LSTM(128),\n",
    "    Dense(64, activation='relu'),\n",
    "    Dense(5000, activation='softmax')  # Output vocabulary size\n",
    "])\n",
    "\n",
    "# Compile model\n",
    "model.compile(loss='sparse_categorical_crossentropy', optimizer='adam', metrics=['accuracy'])\n",
    "\n",
    "# Train model\n",
    "model.fit(padded_sequences, np.array([seq[-1] for seq in sequences]), epochs=10, batch_size=32)\n",
    "\n",
    "# Save model\n",
    "model.save(\"meme_generator.h5\")\n"
   ]
  }
 ],
 "metadata": {
  "kernelspec": {
   "display_name": "venv",
   "language": "python",
   "name": "python3"
  },
  "language_info": {
   "codemirror_mode": {
    "name": "ipython",
    "version": 3
   },
   "file_extension": ".py",
   "mimetype": "text/x-python",
   "name": "python",
   "nbconvert_exporter": "python",
   "pygments_lexer": "ipython3",
   "version": "3.12.3"
  }
 },
 "nbformat": 4,
 "nbformat_minor": 2
}
