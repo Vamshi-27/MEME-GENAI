{
 "cells": [
  {
   "cell_type": "code",
   "execution_count": null,
   "metadata": {},
   "outputs": [],
   "source": [
    "pip install tensorflow keras pandas numpy pillow streamlit"
   ]
  },
  {
   "cell_type": "code",
   "execution_count": null,
   "metadata": {},
   "outputs": [
    {
     "name": "stdout",
     "output_type": "stream",
     "text": [
      "WARNING:tensorflow:From C:\\Users\\91807\\AppData\\Roaming\\Python\\Python310\\site-packages\\keras\\src\\losses.py:2976: The name tf.losses.sparse_softmax_cross_entropy is deprecated. Please use tf.compat.v1.losses.sparse_softmax_cross_entropy instead.\n",
      "\n"
     ]
    }
   ],
   "source": [
    "import os\n",
    "import pandas as pd\n",
    "import numpy as np\n",
    "from PIL import Image\n",
    "import tensorflow as tf\n",
    "from tensorflow.keras.preprocessing.text import Tokenizer\n",
    "from tensorflow.keras.preprocessing.sequence import pad_sequences\n",
    "\n",
    "# Define dataset paths\n",
    "template_path = r\"C:\\Users\\Vamshi R A\\Downloads\\memes900k\\memes900k\\templates.txt\"\n",
    "captions_path = r\"C:\\Users\\Vamshi R A\\Downloads\\memes900k\\memes900k\\captions.txt\"\n",
    "images_folder = r\"C:\\Users\\Vamshi R A\\Downloads\\memes900k\\memes900k\\images\"\n",
    "\n",
    "# Load captions\n",
    "captions = pd.read_csv(captions_path, delimiter=\"\\t\", header=None, names=[\"image\", \"caption\"])\n",
    "\n",
    "# Load templates\n",
    "templates = pd.read_csv(template_path, delimiter=\"\\t\", header=None, names=[\"template\"])\n",
    "\n",
    "# Tokenize captions\n",
    "tokenizer = Tokenizer(num_words=5000, oov_token=\"<OOV>\")\n",
    "tokenizer.fit_on_texts(captions[\"caption\"])\n",
    "\n",
    "# Convert captions to sequences\n",
    "sequences = tokenizer.texts_to_sequences(captions[\"caption\"])\n",
    "padded_sequences = pad_sequences(sequences, maxlen=20, padding=\"post\")\n"
   ]
  },
  {
   "cell_type": "code",
   "execution_count": null,
   "metadata": {},
   "outputs": [],
   "source": [
    "from tensorflow.keras.models import Sequential\n",
    "from tensorflow.keras.layers import Embedding, LSTM, Dense\n",
    "\n",
    "# Define model\n",
    "model = Sequential([\n",
    "    Embedding(input_dim=5000, output_dim=64, input_length=20),\n",
    "    LSTM(128, return_sequences=True),\n",
    "    LSTM(128),\n",
    "    Dense(64, activation='relu'),\n",
    "    Dense(5000, activation='softmax')  # Output vocabulary size\n",
    "])\n",
    "\n",
    "# Compile model\n",
    "model.compile(loss='sparse_categorical_crossentropy', optimizer='adam', metrics=['accuracy'])\n",
    "\n",
    "# Train model\n",
    "model.fit(padded_sequences, np.array([seq[-1] for seq in sequences]), epochs=10, batch_size=32)\n",
    "\n",
    "# Save model\n",
    "model.save(\"meme_generator.h5\")\n"
   ]
  },
  {
   "cell_type": "code",
   "execution_count": null,
   "metadata": {},
   "outputs": [],
   "source": [
    "pip install tensorflow transformers numpy pandas scikit-learn pillow keras\n"
   ]
  }
 ],
 "metadata": {
  "kernelspec": {
   "display_name": "venv",
   "language": "python",
   "name": "python3"
  },
  "language_info": {
   "codemirror_mode": {
    "name": "ipython",
    "version": 3
   },
   "file_extension": ".py",
   "mimetype": "text/x-python",
   "name": "python",
   "nbconvert_exporter": "python",
   "pygments_lexer": "ipython3",
   "version": "3.12.3"
  }
 },
 "nbformat": 4,
 "nbformat_minor": 2
}
